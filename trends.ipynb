{
 "cells": [
  {
   "cell_type": "code",
   "execution_count": 6,
   "metadata": {},
   "outputs": [],
   "source": [
    "import pandas as pd\n",
    "import numpy as np\n",
    "import pickle\n",
    "from pytrends.request import TrendReq\n",
    "from pytrends.dailydata import getDailyData\n",
    "import datetime\n",
    "import re\n",
    "import time\n",
    "import matplotlib.pyplot as plt\n",
    "import seaborn as sns\n",
    "from src.companies_clean import companies_clean"
   ]
  },
  {
   "cell_type": "code",
   "execution_count": 8,
   "metadata": {},
   "outputs": [],
   "source": [
    "df_moat = pd.read_pickle('data/df_moat2')"
   ]
  },
  {
   "cell_type": "code",
   "execution_count": 9,
   "metadata": {},
   "outputs": [
    {
     "data": {
      "text/html": [
       "<div>\n",
       "<style scoped>\n",
       "    .dataframe tbody tr th:only-of-type {\n",
       "        vertical-align: middle;\n",
       "    }\n",
       "\n",
       "    .dataframe tbody tr th {\n",
       "        vertical-align: top;\n",
       "    }\n",
       "\n",
       "    .dataframe thead th {\n",
       "        text-align: right;\n",
       "    }\n",
       "</style>\n",
       "<table border=\"1\" class=\"dataframe\">\n",
       "  <thead>\n",
       "    <tr style=\"text-align: right;\">\n",
       "      <th></th>\n",
       "      <th>Companies Brand</th>\n",
       "      <th>Brand</th>\n",
       "      <th>Image Name</th>\n",
       "      <th>First Seen</th>\n",
       "      <th>Last Seen</th>\n",
       "      <th>Screenpath</th>\n",
       "      <th>percent_color</th>\n",
       "      <th>read_text</th>\n",
       "      <th>out_vertices</th>\n",
       "      <th>faces</th>\n",
       "    </tr>\n",
       "  </thead>\n",
       "  <tbody>\n",
       "    <tr>\n",
       "      <th>597</th>\n",
       "      <td>Qualtrics</td>\n",
       "      <td>Qualtrics</td>\n",
       "      <td>Qualtrics597.jpg</td>\n",
       "      <td>2018-09-13</td>\n",
       "      <td>2019-06-08</td>\n",
       "      <td>https://moatsearch-data.s3.amazonaws.com/creat...</td>\n",
       "      <td>{'red': 0, 'green': 0, 'yellow': 0, 'blue': 0....</td>\n",
       "      <td>[FREE, WEBINAR, Future, of, CX, webinar, qualt...</td>\n",
       "      <td>0.210773</td>\n",
       "      <td>0</td>\n",
       "    </tr>\n",
       "  </tbody>\n",
       "</table>\n",
       "</div>"
      ],
      "text/plain": [
       "    Companies Brand      Brand        Image Name  First Seen   Last Seen  \\\n",
       "597       Qualtrics  Qualtrics  Qualtrics597.jpg  2018-09-13  2019-06-08   \n",
       "\n",
       "                                            Screenpath  \\\n",
       "597  https://moatsearch-data.s3.amazonaws.com/creat...   \n",
       "\n",
       "                                         percent_color  \\\n",
       "597  {'red': 0, 'green': 0, 'yellow': 0, 'blue': 0....   \n",
       "\n",
       "                                             read_text  out_vertices faces  \n",
       "597  [FREE, WEBINAR, Future, of, CX, webinar, qualt...      0.210773     0  "
      ]
     },
     "execution_count": 9,
     "metadata": {},
     "output_type": "execute_result"
    }
   ],
   "source": [
    "df_moat.sample()"
   ]
  },
  {
   "cell_type": "code",
   "execution_count": 10,
   "metadata": {},
   "outputs": [],
   "source": [
    "from datetime import date, timedelta\n",
    "def create_date_list(start=date(2014, 1, 1),end=date(2019, 6, 20)):\n",
    "    #creates a list of dates between d1 and d2 to use as an index for the google trends dataframe\n",
    "    d1 = start  # start date\n",
    "    d2 = end  # end date\n",
    "\n",
    "    delta = d2 - d1         # timedelta\n",
    "    date_list = []\n",
    "    for i in range(delta.days + 1):\n",
    "        date_list.append(d1 + timedelta(days=i))\n",
    "    return date_list"
   ]
  },
  {
   "cell_type": "code",
   "execution_count": 15,
   "metadata": {},
   "outputs": [],
   "source": [
    "date_list = create_date_list()"
   ]
  },
  {
   "cell_type": "code",
   "execution_count": 11,
   "metadata": {},
   "outputs": [],
   "source": [
    "master_date_list = create_date_list(start=date(2014, 7, 6),end=date(2019, 6, 23))"
   ]
  },
  {
   "cell_type": "code",
   "execution_count": 12,
   "metadata": {},
   "outputs": [],
   "source": [
    "df_companies = companies_clean()"
   ]
  },
  {
   "cell_type": "code",
   "execution_count": 13,
   "metadata": {},
   "outputs": [
    {
     "data": {
      "text/html": [
       "<div>\n",
       "<style scoped>\n",
       "    .dataframe tbody tr th:only-of-type {\n",
       "        vertical-align: middle;\n",
       "    }\n",
       "\n",
       "    .dataframe tbody tr th {\n",
       "        vertical-align: top;\n",
       "    }\n",
       "\n",
       "    .dataframe thead th {\n",
       "        text-align: right;\n",
       "    }\n",
       "</style>\n",
       "<table border=\"1\" class=\"dataframe\">\n",
       "  <thead>\n",
       "    <tr style=\"text-align: right;\">\n",
       "      <th></th>\n",
       "      <th>Organization Name</th>\n",
       "      <th>Headquarters Location</th>\n",
       "      <th>CB Rank (Company)</th>\n",
       "      <th>Founded Date</th>\n",
       "      <th>Company Type</th>\n",
       "      <th>Category Groups</th>\n",
       "      <th>IPO Status</th>\n",
       "      <th>Monthly Visits</th>\n",
       "      <th>Moat Name</th>\n",
       "      <th>Categories_simple</th>\n",
       "      <th>age</th>\n",
       "    </tr>\n",
       "  </thead>\n",
       "  <tbody>\n",
       "    <tr>\n",
       "      <th>983</th>\n",
       "      <td>Aeroflot</td>\n",
       "      <td>Los Angeles, California, United States</td>\n",
       "      <td>89,024</td>\n",
       "      <td>1923</td>\n",
       "      <td>For Profit</td>\n",
       "      <td>Science and Engineering, Transportation, Trave...</td>\n",
       "      <td>Private</td>\n",
       "      <td>9,103,312</td>\n",
       "      <td>Aeroflot</td>\n",
       "      <td>[Science and Engineering, Transportation, Trav...</td>\n",
       "      <td>96</td>\n",
       "    </tr>\n",
       "  </tbody>\n",
       "</table>\n",
       "</div>"
      ],
      "text/plain": [
       "    Organization Name                   Headquarters Location  \\\n",
       "983          Aeroflot  Los Angeles, California, United States   \n",
       "\n",
       "    CB Rank (Company) Founded Date Company Type  \\\n",
       "983            89,024         1923   For Profit   \n",
       "\n",
       "                                       Category Groups IPO Status  \\\n",
       "983  Science and Engineering, Transportation, Trave...    Private   \n",
       "\n",
       "    Monthly Visits Moat Name  \\\n",
       "983      9,103,312  Aeroflot   \n",
       "\n",
       "                                     Categories_simple  age  \n",
       "983  [Science and Engineering, Transportation, Trav...   96  "
      ]
     },
     "execution_count": 13,
     "metadata": {},
     "output_type": "execute_result"
    }
   ],
   "source": [
    "df_companies[df_companies['Organization Name']=='Aeroflot']"
   ]
  },
  {
   "cell_type": "code",
   "execution_count": 379,
   "metadata": {},
   "outputs": [],
   "source": []
  },
  {
   "cell_type": "code",
   "execution_count": 18,
   "metadata": {},
   "outputs": [],
   "source": [
    "# Create payload and capture API tokens. Only needed for interest_over_time(), interest_by_region() & related_queries()\n",
    "def pull_monthly(first=datetime.date(year=2014,month=1,day=1),\n",
    "                 last=datetime.date(year=2019,month=6,day=20), \n",
    "                 brand='Epic Games',\n",
    "                 date_list=date_list):\n",
    "    \n",
    "    \"\"\"\n",
    "        Pulls indexed google trends for one or multiple companies/keywords by month and returns a list \n",
    "        dateframes\n",
    "        \n",
    "        Parameters\n",
    "        ----------\n",
    "        first : date.time\n",
    "            the start year requested\n",
    "        last : date.time\n",
    "            The last year requested\n",
    "        brands : list of strings\n",
    "            The list of brands which will be iterate through \n",
    "        date_list : list of dates by day which must include all dates \n",
    "            The list of brands which will be iterate through \n",
    "        \"\"\"\n",
    "    # Login to Google. Only need to run this once, the rest of requests will use the same session.\n",
    "#     if first_run == True:\n",
    "    pytrend = TrendReq(hl='en-US', tz=360)\n",
    "    \n",
    "    pytrend.build_payload(kw_list=[str(brand)])\n",
    "#         pytrend.build_payload(kw_list=[i])\n",
    "    df = pytrend.interest_over_time()\n",
    "    df = df.reset_index()\n",
    "    print(df)\n",
    "   #Converts the google dataframe  \n",
    "    return df"
   ]
  },
  {
   "cell_type": "code",
   "execution_count": 23,
   "metadata": {},
   "outputs": [],
   "source": [
    "def clean_trends(df,company):\n",
    "    df_out = pd.DataFrame()\n",
    "    a = df[str(company)]\n",
    "    b = []\n",
    "    for num, val in enumerate(list(a)):\n",
    "        if num+1 >= len(a):\n",
    "            break\n",
    "        else:\n",
    "            adder = (a[num+1] - a[num])/7\n",
    "            if adder == 0:\n",
    "                b.append(np.zeros(7,)+a[num])\n",
    "            else: \n",
    "                b.append(np.arange(a[num],a[num+1],adder))\n",
    "    df_out[str(company)] = np.concatenate(b).ravel().tolist()\n",
    "    return df_out"
   ]
  },
  {
   "cell_type": "code",
   "execution_count": 24,
   "metadata": {},
   "outputs": [],
   "source": [
    "# df_google = pd.DataFrame()"
   ]
  },
  {
   "cell_type": "code",
   "execution_count": 87,
   "metadata": {},
   "outputs": [],
   "source": [
    "# for company in df_moat['Brand'][2447:].unique():\n",
    "#     try:\n",
    "#         df_google[str(company)]=clean_trends(pull_monthly(brand=company),company)\n",
    "#         time.sleep(60)\n",
    "#     except:\n",
    "#         continue"
   ]
  },
  {
   "cell_type": "code",
   "execution_count": 88,
   "metadata": {},
   "outputs": [],
   "source": [
    "# df_google"
   ]
  },
  {
   "cell_type": "code",
   "execution_count": 89,
   "metadata": {},
   "outputs": [],
   "source": [
    "# df_moat['Brand'] = df_moat['Brand'].apply(lambda x: x.replace('Prezi, inc', 'Prezi'))\n"
   ]
  },
  {
   "cell_type": "code",
   "execution_count": 90,
   "metadata": {},
   "outputs": [],
   "source": [
    "# df_moat[df_moat['Brand'].str.contains('Prezi')]"
   ]
  },
  {
   "cell_type": "code",
   "execution_count": 91,
   "metadata": {},
   "outputs": [],
   "source": [
    "# df_moat['Brand'][893:]"
   ]
  },
  {
   "cell_type": "code",
   "execution_count": 94,
   "metadata": {},
   "outputs": [],
   "source": [
    "# df_moat['Brand']"
   ]
  },
  {
   "cell_type": "code",
   "execution_count": 32,
   "metadata": {},
   "outputs": [],
   "source": [
    "df_google['Date'] = pd.Series(master_date_list)"
   ]
  },
  {
   "cell_type": "code",
   "execution_count": 228,
   "metadata": {},
   "outputs": [],
   "source": [
    "# df_google.drop(1813, inplace=True)"
   ]
  },
  {
   "cell_type": "code",
   "execution_count": 31,
   "metadata": {},
   "outputs": [],
   "source": [
    "master_date_list=master_date_list[0:1813]"
   ]
  },
  {
   "cell_type": "code",
   "execution_count": 30,
   "metadata": {},
   "outputs": [
    {
     "ename": "IndexError",
     "evalue": "list index out of range",
     "output_type": "error",
     "traceback": [
      "\u001b[0;31m---------------------------------------------------------------------------\u001b[0m",
      "\u001b[0;31mIndexError\u001b[0m                                Traceback (most recent call last)",
      "\u001b[0;32m<ipython-input-30-fd402bedabd1>\u001b[0m in \u001b[0;36m<module>\u001b[0;34m\u001b[0m\n\u001b[0;32m----> 1\u001b[0;31m \u001b[0mmaster_date_list\u001b[0m\u001b[0;34m[\u001b[0m\u001b[0;36m1814\u001b[0m\u001b[0;34m]\u001b[0m\u001b[0;34m\u001b[0m\u001b[0m\n\u001b[0m",
      "\u001b[0;31mIndexError\u001b[0m: list index out of range"
     ]
    }
   ],
   "source": []
  },
  {
   "cell_type": "code",
   "execution_count": 230,
   "metadata": {},
   "outputs": [
    {
     "data": {
      "text/html": [
       "<div>\n",
       "<style scoped>\n",
       "    .dataframe tbody tr th:only-of-type {\n",
       "        vertical-align: middle;\n",
       "    }\n",
       "\n",
       "    .dataframe tbody tr th {\n",
       "        vertical-align: top;\n",
       "    }\n",
       "\n",
       "    .dataframe thead th {\n",
       "        text-align: right;\n",
       "    }\n",
       "</style>\n",
       "<table border=\"1\" class=\"dataframe\">\n",
       "  <thead>\n",
       "    <tr style=\"text-align: right;\">\n",
       "      <th></th>\n",
       "      <th>Epic Games</th>\n",
       "      <th>UBER</th>\n",
       "      <th>Uber Rewards</th>\n",
       "      <th>UBER Eats</th>\n",
       "      <th>UBER Driver</th>\n",
       "      <th>Crowdstrike</th>\n",
       "      <th>Impossible Foods</th>\n",
       "      <th>Beyond Meat</th>\n",
       "      <th>Nvidia</th>\n",
       "      <th>Geforce</th>\n",
       "      <th>...</th>\n",
       "      <th>Scribd</th>\n",
       "      <th>Capital One</th>\n",
       "      <th>Capital One BUYPOWER Card</th>\n",
       "      <th>Capital One Spark Business</th>\n",
       "      <th>Capital One 360</th>\n",
       "      <th>DroneDeploy</th>\n",
       "      <th>Moogsoft</th>\n",
       "      <th>Versa Networks</th>\n",
       "      <th>Peerspace</th>\n",
       "      <th>Sunpower</th>\n",
       "    </tr>\n",
       "  </thead>\n",
       "  <tbody>\n",
       "    <tr>\n",
       "      <th>438</th>\n",
       "      <td>1.0</td>\n",
       "      <td>44.0</td>\n",
       "      <td>8.857143</td>\n",
       "      <td>1.0</td>\n",
       "      <td>39.428571</td>\n",
       "      <td>2.857143</td>\n",
       "      <td>3.571429</td>\n",
       "      <td>1.0</td>\n",
       "      <td>70.714286</td>\n",
       "      <td>73.0</td>\n",
       "      <td>...</td>\n",
       "      <td>78.571429</td>\n",
       "      <td>93.142857</td>\n",
       "      <td>43.0</td>\n",
       "      <td>23.285714</td>\n",
       "      <td>74.0</td>\n",
       "      <td>20.857143</td>\n",
       "      <td>17.0</td>\n",
       "      <td>42.142857</td>\n",
       "      <td>6.0</td>\n",
       "      <td>60.857143</td>\n",
       "    </tr>\n",
       "  </tbody>\n",
       "</table>\n",
       "<p>1 rows × 511 columns</p>\n",
       "</div>"
      ],
      "text/plain": [
       "     Epic Games  UBER  Uber Rewards  UBER Eats  UBER Driver  Crowdstrike  \\\n",
       "438         1.0  44.0      8.857143        1.0    39.428571     2.857143   \n",
       "\n",
       "     Impossible Foods  Beyond Meat     Nvidia  Geforce    ...         Scribd  \\\n",
       "438          3.571429          1.0  70.714286     73.0    ...      78.571429   \n",
       "\n",
       "     Capital One  Capital One BUYPOWER Card  Capital One Spark Business  \\\n",
       "438    93.142857                       43.0                   23.285714   \n",
       "\n",
       "     Capital One 360  DroneDeploy  Moogsoft  Versa Networks  Peerspace  \\\n",
       "438             74.0    20.857143      17.0       42.142857        6.0   \n",
       "\n",
       "      Sunpower  \n",
       "438  60.857143  \n",
       "\n",
       "[1 rows x 511 columns]"
      ]
     },
     "execution_count": 230,
     "metadata": {},
     "output_type": "execute_result"
    }
   ],
   "source": [
    "df_google.sample()"
   ]
  },
  {
   "cell_type": "code",
   "execution_count": 231,
   "metadata": {},
   "outputs": [
    {
     "data": {
      "text/html": [
       "<div>\n",
       "<style scoped>\n",
       "    .dataframe tbody tr th:only-of-type {\n",
       "        vertical-align: middle;\n",
       "    }\n",
       "\n",
       "    .dataframe tbody tr th {\n",
       "        vertical-align: top;\n",
       "    }\n",
       "\n",
       "    .dataframe thead th {\n",
       "        text-align: right;\n",
       "    }\n",
       "</style>\n",
       "<table border=\"1\" class=\"dataframe\">\n",
       "  <thead>\n",
       "    <tr style=\"text-align: right;\">\n",
       "      <th></th>\n",
       "      <th>Companies Brand</th>\n",
       "      <th>Brand</th>\n",
       "      <th>Image Name</th>\n",
       "      <th>First Seen</th>\n",
       "      <th>Last Seen</th>\n",
       "      <th>Screenpath</th>\n",
       "    </tr>\n",
       "  </thead>\n",
       "  <tbody>\n",
       "    <tr>\n",
       "      <th>3930</th>\n",
       "      <td>Matterport</td>\n",
       "      <td>Matterport</td>\n",
       "      <td>Matterport3930.jpg</td>\n",
       "      <td>2019-03-26</td>\n",
       "      <td>2019-06-25</td>\n",
       "      <td>https://moatsearch-data.s3.amazonaws.com/creat...</td>\n",
       "    </tr>\n",
       "  </tbody>\n",
       "</table>\n",
       "</div>"
      ],
      "text/plain": [
       "     Companies Brand       Brand          Image Name  First Seen   Last Seen  \\\n",
       "3930      Matterport  Matterport  Matterport3930.jpg  2019-03-26  2019-06-25   \n",
       "\n",
       "                                             Screenpath  \n",
       "3930  https://moatsearch-data.s3.amazonaws.com/creat...  "
      ]
     },
     "execution_count": 231,
     "metadata": {},
     "output_type": "execute_result"
    }
   ],
   "source": [
    "df_moat.sample()"
   ]
  },
  {
   "cell_type": "code",
   "execution_count": 232,
   "metadata": {},
   "outputs": [
    {
     "data": {
      "text/html": [
       "<div>\n",
       "<style scoped>\n",
       "    .dataframe tbody tr th:only-of-type {\n",
       "        vertical-align: middle;\n",
       "    }\n",
       "\n",
       "    .dataframe tbody tr th {\n",
       "        vertical-align: top;\n",
       "    }\n",
       "\n",
       "    .dataframe thead th {\n",
       "        text-align: right;\n",
       "    }\n",
       "</style>\n",
       "<table border=\"1\" class=\"dataframe\">\n",
       "  <thead>\n",
       "    <tr style=\"text-align: right;\">\n",
       "      <th></th>\n",
       "      <th>Epic Games</th>\n",
       "      <th>UBER</th>\n",
       "      <th>Uber Rewards</th>\n",
       "      <th>UBER Eats</th>\n",
       "      <th>UBER Driver</th>\n",
       "      <th>Crowdstrike</th>\n",
       "      <th>Impossible Foods</th>\n",
       "      <th>Beyond Meat</th>\n",
       "      <th>Nvidia</th>\n",
       "      <th>Geforce</th>\n",
       "      <th>...</th>\n",
       "      <th>Scribd</th>\n",
       "      <th>Capital One</th>\n",
       "      <th>Capital One BUYPOWER Card</th>\n",
       "      <th>Capital One Spark Business</th>\n",
       "      <th>Capital One 360</th>\n",
       "      <th>DroneDeploy</th>\n",
       "      <th>Moogsoft</th>\n",
       "      <th>Versa Networks</th>\n",
       "      <th>Peerspace</th>\n",
       "      <th>Sunpower</th>\n",
       "    </tr>\n",
       "  </thead>\n",
       "  <tbody>\n",
       "    <tr>\n",
       "      <th>654</th>\n",
       "      <td>1.0</td>\n",
       "      <td>54.857143</td>\n",
       "      <td>9.285714</td>\n",
       "      <td>2.571429</td>\n",
       "      <td>50.142857</td>\n",
       "      <td>2.428571</td>\n",
       "      <td>3.285714</td>\n",
       "      <td>1.0</td>\n",
       "      <td>51.714286</td>\n",
       "      <td>53.142857</td>\n",
       "      <td>...</td>\n",
       "      <td>60.714286</td>\n",
       "      <td>67.428571</td>\n",
       "      <td>48.142857</td>\n",
       "      <td>30.571429</td>\n",
       "      <td>65.285714</td>\n",
       "      <td>27.714286</td>\n",
       "      <td>22.714286</td>\n",
       "      <td>30.571429</td>\n",
       "      <td>14.142857</td>\n",
       "      <td>66.142857</td>\n",
       "    </tr>\n",
       "  </tbody>\n",
       "</table>\n",
       "<p>1 rows × 511 columns</p>\n",
       "</div>"
      ],
      "text/plain": [
       "     Epic Games       UBER  Uber Rewards  UBER Eats  UBER Driver  Crowdstrike  \\\n",
       "654         1.0  54.857143      9.285714   2.571429    50.142857     2.428571   \n",
       "\n",
       "     Impossible Foods  Beyond Meat     Nvidia    Geforce    ...      \\\n",
       "654          3.285714          1.0  51.714286  53.142857    ...       \n",
       "\n",
       "        Scribd  Capital One  Capital One BUYPOWER Card  \\\n",
       "654  60.714286    67.428571                  48.142857   \n",
       "\n",
       "     Capital One Spark Business  Capital One 360  DroneDeploy   Moogsoft  \\\n",
       "654                   30.571429        65.285714    27.714286  22.714286   \n",
       "\n",
       "     Versa Networks  Peerspace   Sunpower  \n",
       "654       30.571429  14.142857  66.142857  \n",
       "\n",
       "[1 rows x 511 columns]"
      ]
     },
     "execution_count": 232,
     "metadata": {},
     "output_type": "execute_result"
    }
   ],
   "source": [
    "df_google.sample()"
   ]
  },
  {
   "cell_type": "code",
   "execution_count": 277,
   "metadata": {},
   "outputs": [
    {
     "data": {
      "text/html": [
       "<div>\n",
       "<style scoped>\n",
       "    .dataframe tbody tr th:only-of-type {\n",
       "        vertical-align: middle;\n",
       "    }\n",
       "\n",
       "    .dataframe tbody tr th {\n",
       "        vertical-align: top;\n",
       "    }\n",
       "\n",
       "    .dataframe thead th {\n",
       "        text-align: right;\n",
       "    }\n",
       "</style>\n",
       "<table border=\"1\" class=\"dataframe\">\n",
       "  <thead>\n",
       "    <tr style=\"text-align: right;\">\n",
       "      <th></th>\n",
       "      <th>Companies Brand</th>\n",
       "      <th>Brand</th>\n",
       "      <th>Image Name</th>\n",
       "      <th>First Seen</th>\n",
       "      <th>Last Seen</th>\n",
       "      <th>Screenpath</th>\n",
       "    </tr>\n",
       "  </thead>\n",
       "  <tbody>\n",
       "    <tr>\n",
       "      <th>3114</th>\n",
       "      <td>Sisense</td>\n",
       "      <td>Sisense</td>\n",
       "      <td>Sisense3114.jpg</td>\n",
       "      <td>2018-03-28</td>\n",
       "      <td>2018-03-28</td>\n",
       "      <td>https://moatsearch-data.s3.amazonaws.com/creat...</td>\n",
       "    </tr>\n",
       "  </tbody>\n",
       "</table>\n",
       "</div>"
      ],
      "text/plain": [
       "     Companies Brand    Brand       Image Name  First Seen   Last Seen  \\\n",
       "3114         Sisense  Sisense  Sisense3114.jpg  2018-03-28  2018-03-28   \n",
       "\n",
       "                                             Screenpath  \n",
       "3114  https://moatsearch-data.s3.amazonaws.com/creat...  "
      ]
     },
     "execution_count": 277,
     "metadata": {},
     "output_type": "execute_result"
    }
   ],
   "source": [
    "df_moat.sample()"
   ]
  },
  {
   "cell_type": "code",
   "execution_count": 62,
   "metadata": {},
   "outputs": [],
   "source": [
    "df_google['date'] = master_date_list"
   ]
  },
  {
   "cell_type": "code",
   "execution_count": 63,
   "metadata": {},
   "outputs": [],
   "source": [
    "df_google.set_index(['date'], inplace=True)"
   ]
  },
  {
   "cell_type": "code",
   "execution_count": 65,
   "metadata": {},
   "outputs": [],
   "source": [
    "df_google.to_pickle('data/df_google2')"
   ]
  },
  {
   "cell_type": "code",
   "execution_count": 66,
   "metadata": {},
   "outputs": [],
   "source": [
    "df_t_google = df_google.T.reset_index()"
   ]
  },
  {
   "cell_type": "code",
   "execution_count": 67,
   "metadata": {},
   "outputs": [],
   "source": [
    "df_t_google.rename({'index': 'Brand'}, axis=1, inplace=True)"
   ]
  },
  {
   "cell_type": "code",
   "execution_count": 68,
   "metadata": {},
   "outputs": [
    {
     "data": {
      "text/html": [
       "<div>\n",
       "<style scoped>\n",
       "    .dataframe tbody tr th:only-of-type {\n",
       "        vertical-align: middle;\n",
       "    }\n",
       "\n",
       "    .dataframe tbody tr th {\n",
       "        vertical-align: top;\n",
       "    }\n",
       "\n",
       "    .dataframe thead th {\n",
       "        text-align: right;\n",
       "    }\n",
       "</style>\n",
       "<table border=\"1\" class=\"dataframe\">\n",
       "  <thead>\n",
       "    <tr style=\"text-align: right;\">\n",
       "      <th>date</th>\n",
       "      <th>Brand</th>\n",
       "      <th>2014-07-06</th>\n",
       "      <th>2014-07-07</th>\n",
       "      <th>2014-07-08</th>\n",
       "      <th>2014-07-09</th>\n",
       "      <th>2014-07-10</th>\n",
       "      <th>2014-07-11</th>\n",
       "      <th>2014-07-12</th>\n",
       "      <th>2014-07-13</th>\n",
       "      <th>2014-07-14</th>\n",
       "      <th>...</th>\n",
       "      <th>2019-06-13</th>\n",
       "      <th>2019-06-14</th>\n",
       "      <th>2019-06-15</th>\n",
       "      <th>2019-06-16</th>\n",
       "      <th>2019-06-17</th>\n",
       "      <th>2019-06-18</th>\n",
       "      <th>2019-06-19</th>\n",
       "      <th>2019-06-20</th>\n",
       "      <th>2019-06-21</th>\n",
       "      <th>2019-06-22</th>\n",
       "    </tr>\n",
       "  </thead>\n",
       "  <tbody>\n",
       "    <tr>\n",
       "      <th>659</th>\n",
       "      <td>Betfair</td>\n",
       "      <td>42</td>\n",
       "      <td>42.4286</td>\n",
       "      <td>42.8571</td>\n",
       "      <td>43.2857</td>\n",
       "      <td>43.7143</td>\n",
       "      <td>44.1429</td>\n",
       "      <td>44.5714</td>\n",
       "      <td>45</td>\n",
       "      <td>45.2857</td>\n",
       "      <td>...</td>\n",
       "      <td>32</td>\n",
       "      <td>32</td>\n",
       "      <td>32</td>\n",
       "      <td>31.8571</td>\n",
       "      <td>31.7143</td>\n",
       "      <td>31.5714</td>\n",
       "      <td>31.4286</td>\n",
       "      <td>31.2857</td>\n",
       "      <td>31.1429</td>\n",
       "      <td>31</td>\n",
       "    </tr>\n",
       "  </tbody>\n",
       "</table>\n",
       "<p>1 rows × 1814 columns</p>\n",
       "</div>"
      ],
      "text/plain": [
       "date    Brand 2014-07-06 2014-07-07 2014-07-08 2014-07-09 2014-07-10  \\\n",
       "659   Betfair         42    42.4286    42.8571    43.2857    43.7143   \n",
       "\n",
       "date 2014-07-11 2014-07-12 2014-07-13 2014-07-14    ...     2019-06-13  \\\n",
       "659     44.1429    44.5714         45    45.2857    ...             32   \n",
       "\n",
       "date 2019-06-14 2019-06-15 2019-06-16 2019-06-17 2019-06-18 2019-06-19  \\\n",
       "659          32         32    31.8571    31.7143    31.5714    31.4286   \n",
       "\n",
       "date 2019-06-20 2019-06-21 2019-06-22  \n",
       "659     31.2857    31.1429         31  \n",
       "\n",
       "[1 rows x 1814 columns]"
      ]
     },
     "execution_count": 68,
     "metadata": {},
     "output_type": "execute_result"
    }
   ],
   "source": [
    "df_t_google.sample()"
   ]
  },
  {
   "cell_type": "code",
   "execution_count": 70,
   "metadata": {},
   "outputs": [
    {
     "data": {
      "text/plain": [
       "0"
      ]
     },
     "execution_count": 70,
     "metadata": {},
     "output_type": "execute_result"
    }
   ],
   "source": [
    "sum(sum(np.array(df_t_google.isnull())))"
   ]
  },
  {
   "cell_type": "code",
   "execution_count": 71,
   "metadata": {},
   "outputs": [],
   "source": [
    "brand_list_google = set(df_t_google['Brand'].unique())"
   ]
  },
  {
   "cell_type": "code",
   "execution_count": 72,
   "metadata": {},
   "outputs": [],
   "source": [
    "brand_list_moat = set(df_moat['Brand'].unique())"
   ]
  },
  {
   "cell_type": "code",
   "execution_count": 73,
   "metadata": {},
   "outputs": [
    {
     "data": {
      "text/plain": [
       "(858, 885)"
      ]
     },
     "execution_count": 73,
     "metadata": {},
     "output_type": "execute_result"
    }
   ],
   "source": [
    "len(brand_list_google), len(brand_list_moat)"
   ]
  },
  {
   "cell_type": "code",
   "execution_count": 77,
   "metadata": {},
   "outputs": [],
   "source": [
    "# list(brand_list_moat - brand_list_google)"
   ]
  },
  {
   "cell_type": "code",
   "execution_count": 78,
   "metadata": {},
   "outputs": [],
   "source": [
    "# df_moat[df_moat['Brand'].str.contains('AnheuserBusch')]"
   ]
  },
  {
   "cell_type": "code",
   "execution_count": 454,
   "metadata": {},
   "outputs": [],
   "source": [
    "# df_t_google.drop(346, inplace=True)\n",
    "# df_t_google.drop(104, inplace=True)\n",
    "# df_t_google.drop(100, inplace=True)"
   ]
  },
  {
   "cell_type": "code",
   "execution_count": 467,
   "metadata": {},
   "outputs": [],
   "source": [
    "# df_moat.drop(1242, inplace=True)\n",
    "# df_moat.drop(1269, inplace=True)\n",
    "# df_moat.drop(1268, inplace=True)\n",
    "# df_moat.drop(1267, inplace=True)\n",
    "# df_moat.drop(1266, inplace=True)\n",
    "# df_moat.drop(1265, inplace=True)\n",
    "# df_moat.drop(1263, inplace=True)\n",
    "# df_moat.drop(1262, inplace=True)\n",
    "# df_moat.drop(1261, inplace=True)\n",
    "# df_moat.drop(1250, inplace=True)"
   ]
  },
  {
   "cell_type": "code",
   "execution_count": 79,
   "metadata": {},
   "outputs": [],
   "source": [
    "trend_moat = pd.merge(df_t_google, df_moat, how='left', left_on = 'Brand', right_on = 'Brand')"
   ]
  },
  {
   "cell_type": "code",
   "execution_count": 96,
   "metadata": {},
   "outputs": [],
   "source": [
    "\n",
    "trend_moat['Last Seen'] =  pd.to_datetime(trend_moat['Last Seen'])\n",
    "trend_moat['First Seen'] =  pd.to_datetime(trend_moat['First Seen'])\n",
    "trend_moat['before_campaign'] = trend_moat['First Seen'] - pd.DateOffset(months=4)\n",
    "trend_moat['Campaign Length'] = trend_moat['Last Seen'] - trend_moat['First Seen']\n",
    "trend_moat['Campaign Length'] = trend_moat['Campaign Length'].dt.days"
   ]
  },
  {
   "cell_type": "code",
   "execution_count": 98,
   "metadata": {},
   "outputs": [],
   "source": [
    "trend_moat['before_campaign'] =  pd.to_datetime(trend_moat['before_campaign'])\n",
    "trend_moat['First Seen'] =  pd.to_datetime(trend_moat['First Seen'])\n",
    "# trend_moat['after_campaign'] =  pd.to_datetime(trend_moat['after_campaign'])\n",
    "trend_moat['Last Seen'] =  pd.to_datetime(trend_moat['Last Seen'])"
   ]
  },
  {
   "cell_type": "code",
   "execution_count": 99,
   "metadata": {},
   "outputs": [],
   "source": [
    "# datetime.datetime.strptime(str(x),'%Y-%m-%d %H:%M:%S').date()"
   ]
  },
  {
   "cell_type": "code",
   "execution_count": 604,
   "metadata": {},
   "outputs": [],
   "source": [
    "trend_moat['Last Seen'] = trend_moat['Last Seen'].apply(lambda x: max(datetime.date(2019, 6, 22), datetime.date(2019, 6, 22)))"
   ]
  },
  {
   "cell_type": "code",
   "execution_count": 100,
   "metadata": {},
   "outputs": [],
   "source": [
    "trend_moat['before_score'] = 0\n",
    "trend_moat['campaign_score'] = 0\n",
    "trend_moat['after_score'] = 0"
   ]
  },
  {
   "cell_type": "code",
   "execution_count": 111,
   "metadata": {},
   "outputs": [],
   "source": [
    "trend_moat.drop(0, inplace=True)"
   ]
  },
  {
   "cell_type": "code",
   "execution_count": 113,
   "metadata": {},
   "outputs": [
    {
     "name": "stderr",
     "output_type": "stream",
     "text": [
      "/Users/ian/anaconda3/lib/python3.6/site-packages/numpy/core/fromnumeric.py:2957: RuntimeWarning: Mean of empty slice.\n",
      "  out=out, **kwargs)\n",
      "/Users/ian/anaconda3/lib/python3.6/site-packages/numpy/core/_methods.py:80: RuntimeWarning: invalid value encountered in double_scalars\n",
      "  ret = ret.dtype.type(ret / rcount)\n",
      "/Users/ian/anaconda3/lib/python3.6/site-packages/pandas/core/indexing.py:189: SettingWithCopyWarning: \n",
      "A value is trying to be set on a copy of a slice from a DataFrame\n",
      "\n",
      "See the caveats in the documentation: http://pandas.pydata.org/pandas-docs/stable/indexing.html#indexing-view-versus-copy\n",
      "  self._setitem_with_indexer(indexer, value)\n"
     ]
    }
   ],
   "source": [
    "for row in range(0,len(trend_moat)):\n",
    "    score_list = [[],[],[]]\n",
    "    before_score = create_date_list(start=trend_moat['before_campaign'].iloc[row].date(), end=trend_moat['First Seen'].iloc[row].date())\n",
    "    campaign_score = create_date_list(start=trend_moat['First Seen'].iloc[row].date(), end=trend_moat['Last Seen'].iloc[row].date())\n",
    "    #after_score = create_date_list(start=trend_moat['Last Seen'].iloc[row].date(), end=trend_moat['after_campaign'].iloc[row].date())\n",
    "    for date_iter in list(trend_moat)[1:1814]:\n",
    "        if date_iter in before_score:\n",
    "            score_list[0].append(trend_moat[date_iter].iloc[row])\n",
    "        if date_iter in campaign_score:\n",
    "            score_list[1].append(trend_moat[date_iter].iloc[row])\n",
    "#         if date_iter in after_score:\n",
    "#             score_list[2].append(trend_moat[date_iter].iloc[row])\n",
    "    trend_moat['before_score'].iloc[row] = np.mean(score_list[0])\n",
    "    trend_moat['campaign_score'].iloc[row] = np.mean(score_list[1])\n",
    "#     trend_moat['after_score'].iloc[row] = np.mean(score_list[2])"
   ]
  },
  {
   "cell_type": "code",
   "execution_count": 114,
   "metadata": {},
   "outputs": [],
   "source": [
    "trend_moat.to_pickle('data/trend_moat2')"
   ]
  },
  {
   "cell_type": "code",
   "execution_count": 133,
   "metadata": {},
   "outputs": [
    {
     "data": {
      "text/plain": [
       "(48.878292506345446, 48.58955123449521, 0.0)"
      ]
     },
     "execution_count": 133,
     "metadata": {},
     "output_type": "execute_result"
    }
   ],
   "source": [
    "trend_moat['before_score'].mean(), trend_moat['campaign_score'].mean(), trend_moat['after_score'].mean()"
   ]
  },
  {
   "cell_type": "code",
   "execution_count": 117,
   "metadata": {},
   "outputs": [
    {
     "data": {
      "text/plain": [
       "array([  11,   14,   16,   17,   19,   32,   50,   52,   53,   54,   55,\n",
       "         60,   62,   63,   73,   80,   81,   82,   83,   84,   85,   86,\n",
       "         87,   88,   91,  118,  119,  120,  121,  170,  189,  212,  213,\n",
       "        214,  215,  216,  219,  220,  221,  227,  233,  234,  235,  236,\n",
       "        237,  238,  239,  240,  242,  255,  257,  258,  259,  260,  261,\n",
       "        264,  325,  328,  330,  354,  372,  375,  379,  381,  389,  403,\n",
       "        404,  435,  442,  454,  456,  459,  460,  463,  565,  566,  626,\n",
       "        670,  671,  672,  674,  687,  688,  689,  729,  730,  764,  771,\n",
       "        772,  820,  822,  823,  827,  828,  829,  978,  979,  982,  992,\n",
       "        998, 1006, 1007, 1017, 1018, 1043, 1050, 1052, 1056, 1063, 1071,\n",
       "       1073, 1074, 1101, 1103, 1219, 1220, 1222, 1224, 1226, 1227, 1228,\n",
       "       1249, 1250, 1260, 1275, 1307, 1318, 1329, 1330, 1331, 1332, 1408,\n",
       "       1419, 1420, 1421, 1422, 1423, 1424, 1425, 1426, 1427, 1468, 1469,\n",
       "       1471, 1473, 1478, 1488, 1510, 1512, 1527, 1529, 1530, 1531, 1547,\n",
       "       1562, 1563, 1564, 1565, 1566, 1567, 1588, 1596, 1600, 1612, 1650,\n",
       "       1651, 1667, 1683, 1716, 1749, 1755, 1828, 1829, 1834, 1836, 1837,\n",
       "       1844, 1845, 1850, 1852, 1853, 1891, 1927, 1931, 1938, 1943, 1972,\n",
       "       1996, 2052, 2053, 2056, 2079, 2099, 2117, 2120, 2198, 2205, 2218,\n",
       "       2219, 2220, 2231, 2232, 2269, 2276, 2280, 2319, 2323, 2324, 2325,\n",
       "       2328, 2330, 2331, 2334, 2335, 2336, 2395, 2402, 2403, 2404, 2405,\n",
       "       2410, 2411, 2412, 2512, 2514, 2516, 2519, 2521, 2522, 2551, 2552,\n",
       "       2553, 2554, 2555, 2556, 2557, 2558, 2559, 2560, 2561, 2651, 2743,\n",
       "       2750, 2811, 2812, 2823, 2969, 2971, 2976, 2983, 3008, 3028, 3032,\n",
       "       3033, 3035, 3037, 3093, 3105, 3112, 3129, 3130, 3131, 3133, 3139,\n",
       "       3143, 3145, 3150, 3154, 3156, 3157, 3158, 3159, 3160, 3161, 3162,\n",
       "       3163, 3164, 3165, 3166, 3167, 3168, 3169, 3170, 3171, 3172, 3173,\n",
       "       3174, 3175, 3189, 3213, 3289, 3290, 3291, 3294, 3359, 3365, 3369,\n",
       "       3371, 3372, 3373, 3374, 3381, 3382, 3383, 3387, 3388, 3389, 3443,\n",
       "       3450, 3455, 3456, 3457, 3459, 3547, 3548, 3549, 3555, 3571, 3613,\n",
       "       3668, 3669, 3684, 3685, 3709, 3712, 3767, 3804, 3806, 3866, 3870,\n",
       "       3871, 3873, 3874, 3880, 3881, 3882, 3883, 3884, 3892, 3893, 3894,\n",
       "       3895, 3896, 3897, 3898, 3904, 3906, 3910, 3918, 3956, 3957, 3958,\n",
       "       3959, 3965, 3976, 3977, 4011, 4012, 4013, 4014, 4017, 4023, 4029,\n",
       "       4030, 4040, 4041, 4063, 4067, 4074, 4144, 4145, 4146, 4149, 4150,\n",
       "       4172, 4183, 4184, 4202, 4213, 4245, 4259, 4263, 4279, 4308, 4309,\n",
       "       4310, 4311, 4312, 4313, 4314, 4315, 4316, 4317, 4318, 4319, 4322,\n",
       "       4345, 4346, 4347, 4348, 4349, 4350, 4351, 4352, 4353, 4354, 4355,\n",
       "       4360, 4361, 4363, 4364, 4365, 4367, 4370, 4372, 4377, 4378, 4380,\n",
       "       4384, 4385, 4387, 4390, 4396, 4398, 4399, 4403, 4404, 4407, 4408,\n",
       "       4409, 4413, 4443, 4445, 4457, 4458, 4465, 4470, 4471, 4473, 4474,\n",
       "       4475, 4504, 4505, 4508, 4522, 4527, 4528, 4530, 4533, 4569, 4570,\n",
       "       4571, 4659, 4663, 4664, 4677, 4679, 4682, 4683, 4696, 4697, 4698,\n",
       "       4699, 4700, 4701, 4702, 4703, 4704, 4705, 4706, 4707, 4708, 4712,\n",
       "       4713, 4716, 4726, 4727, 4733, 4736, 4737, 4739, 4740, 4746, 4759,\n",
       "       4760, 4761, 4762, 4763, 4764, 4808, 4823, 4830, 4831, 4858, 4864,\n",
       "       4865, 4871, 4872, 4873, 4874, 4876, 4877, 4878, 4879, 4880, 4881,\n",
       "       4889, 4890, 4891, 4895, 4945, 4991, 4992, 5002, 5004, 5005, 5006,\n",
       "       5007, 5008, 5021, 5022, 5073, 5076, 5077, 5079, 5080, 5082, 5154,\n",
       "       5155, 5157, 5162, 5189, 5190, 5214, 5224, 5225, 5226, 5227, 5228,\n",
       "       5229, 5230, 5233, 5234, 5273, 5274, 5275, 5277, 5281, 5289, 5290,\n",
       "       5308, 5369, 5370, 5371, 5373, 5374, 5376, 5379, 5380, 5381, 5382,\n",
       "       5387, 5392, 5393, 5419, 5420, 5421, 5433, 5434, 5436, 5437, 5438,\n",
       "       5439, 5451, 5452, 5453, 5454, 5455, 5459, 5461, 5467, 5487, 5492,\n",
       "       5507, 5517, 5518, 5543, 5551, 5595, 5597, 5657, 5668, 5670, 5673,\n",
       "       5674, 5684, 5685, 5687, 5688, 5740, 5748, 5757, 5761, 5764, 5810,\n",
       "       5820, 5821, 5822, 5823, 5826, 5828, 5829, 5832, 5833, 5867, 5891,\n",
       "       5892, 5899, 5900, 5901, 5902, 5903, 5904, 5905, 5906, 5963, 5964,\n",
       "       5967, 5971, 5972, 6022, 6023, 6038, 6039, 6040, 6079, 6083, 6090,\n",
       "       6092, 6093, 6106, 6125, 6126, 6127, 6128, 6129, 6130, 6131, 6132,\n",
       "       6133, 6134, 6135, 6136, 6137, 6176, 6219, 6220, 6221, 6222, 6223,\n",
       "       6224, 6225, 6227, 6228, 6231, 6232, 6235, 6236, 6237, 6239, 6255,\n",
       "       6315, 6316, 6317, 6321, 6355, 6356, 6357, 6362, 6364, 6380, 6381,\n",
       "       6421, 6425, 6426, 6428, 6429, 6443, 6465, 6538, 6541, 6562, 6563,\n",
       "       6564, 6567, 6580, 6582, 6584, 6586, 6602, 6611, 6613, 6616, 6663,\n",
       "       6727, 6774, 6775, 6801, 6802, 6804, 6805, 6806, 6807, 6808, 6809,\n",
       "       6810, 6811, 6812, 6832, 6833, 6834, 6871, 6921, 6924, 6942, 6943,\n",
       "       6944, 6957, 6958, 6959, 6972, 6989, 6993, 6994, 6995, 6996, 6998,\n",
       "       7001, 7002, 7010, 7011, 7012, 7013, 7015, 7039, 7088, 7089, 7115,\n",
       "       7116, 7117, 7119, 7128, 7143, 7144, 7145, 7151, 7153, 7154, 7155,\n",
       "       7187, 7237, 7259, 7260, 7261, 7262, 7263, 7264, 7329, 7339, 7341,\n",
       "       7342, 7343, 7347, 7348, 7364, 7365, 7372, 7373, 7387, 7388, 7391,\n",
       "       7392, 7393, 7394, 7395, 7396, 7397, 7398, 7399, 7451, 7452, 7453,\n",
       "       7503, 7505, 7506, 7507, 7523, 7524, 7525, 7526, 7529, 7530, 7576,\n",
       "       7577, 7602, 7607, 7616, 7617, 7622, 7635, 7636, 7637, 7673, 7679,\n",
       "       7698, 7703, 7704, 7781, 7782, 7783, 7864, 7882, 7908, 7919, 8003,\n",
       "       8006, 8009, 8010, 8080, 8083, 8088, 8089, 8091, 8133, 8134, 8135,\n",
       "       8163, 8164, 8165, 8167, 8169, 8170, 8191, 8255, 8333, 8352, 8435,\n",
       "       8438, 8442, 8454, 8499, 8500, 8501, 8528, 8529, 8531, 8550, 8591,\n",
       "       8596, 8597, 8598, 8610, 8611, 8612, 8616, 8636, 8637, 8638, 8656,\n",
       "       8657, 8667, 8674, 8675, 8676, 8678, 8713, 8714, 8820, 8821, 8826,\n",
       "       8833, 8834, 8835, 8836, 8849, 8884, 8885, 8886, 8887, 8899, 8905,\n",
       "       8940, 8954, 8989, 8998, 8999, 9000, 9001, 9002, 9003, 9023, 9024,\n",
       "       9048, 9062, 9066, 9073, 9074, 9075, 9077, 9078, 9079, 9080, 9083,\n",
       "       9084, 9085, 9086, 9087, 9090, 9103, 9104, 9106, 9109, 9110, 9112,\n",
       "       9113, 9128, 9172, 9189, 9192, 9194, 9195, 9198, 9200, 9201, 9202,\n",
       "       9203, 9249, 9250, 9251])"
      ]
     },
     "execution_count": 117,
     "metadata": {},
     "output_type": "execute_result"
    }
   ],
   "source": [
    "np.where((trend_moat['campaign_score'].isnull()))[0]"
   ]
  },
  {
   "cell_type": "code",
   "execution_count": 136,
   "metadata": {},
   "outputs": [],
   "source": [
    "trend_moat = trend_moat.drop(list(np.where((trend_moat['before_score'].isnull()))[0]))  "
   ]
  },
  {
   "cell_type": "code",
   "execution_count": 139,
   "metadata": {},
   "outputs": [],
   "source": [
    "# trend_moat.reset_index(inplace=True)"
   ]
  },
  {
   "cell_type": "code",
   "execution_count": 129,
   "metadata": {},
   "outputs": [],
   "source": [
    "trend_moat.drop(list((np.where((trend_moat['campaign_score'].isnull())))[0]),inplace=True)"
   ]
  },
  {
   "cell_type": "code",
   "execution_count": 9,
   "metadata": {},
   "outputs": [],
   "source": [
    "trend_moat.reset_index(inplace=True)"
   ]
  },
  {
   "cell_type": "code",
   "execution_count": 127,
   "metadata": {},
   "outputs": [
    {
     "data": {
      "text/plain": [
       "(array([], dtype=int64),)"
      ]
     },
     "execution_count": 127,
     "metadata": {},
     "output_type": "execute_result"
    }
   ],
   "source": [
    "np.where(trend_moat['after_score'].isnull())"
   ]
  },
  {
   "cell_type": "code",
   "execution_count": 130,
   "metadata": {},
   "outputs": [
    {
     "name": "stderr",
     "output_type": "stream",
     "text": [
      "/Users/ian/anaconda3/lib/python3.6/site-packages/seaborn/distributions.py:218: MatplotlibDeprecationWarning: \n",
      "The 'normed' kwarg was deprecated in Matplotlib 2.1 and will be removed in 3.1. Use 'density' instead.\n",
      "  color=hist_color, **hist_kws)\n"
     ]
    },
    {
     "data": {
      "text/plain": [
       "<matplotlib.axes._subplots.AxesSubplot at 0x1a22549d30>"
      ]
     },
     "execution_count": 130,
     "metadata": {},
     "output_type": "execute_result"
    },
    {
     "data": {
      "image/png": "[encoded data removed]",
      "text/plain": [
       "<Figure size 432x288 with 1 Axes>"
      ]
     },
     "metadata": {
      "needs_background": "light"
     },
     "output_type": "display_data"
    }
   ],
   "source": [
    "sns.distplot(trend_moat['campaign_score'])"
   ]
  },
  {
   "cell_type": "code",
   "execution_count": 131,
   "metadata": {},
   "outputs": [
    {
     "ename": "ValueError",
     "evalue": "cannot convert float NaN to integer",
     "output_type": "error",
     "traceback": [
      "\u001b[0;31m---------------------------------------------------------------------------\u001b[0m",
      "\u001b[0;31mValueError\u001b[0m                                Traceback (most recent call last)",
      "\u001b[0;32m<ipython-input-131-5fc75a11ca5a>\u001b[0m in \u001b[0;36m<module>\u001b[0;34m\u001b[0m\n\u001b[0;32m----> 1\u001b[0;31m \u001b[0msns\u001b[0m\u001b[0;34m.\u001b[0m\u001b[0mdistplot\u001b[0m\u001b[0;34m(\u001b[0m\u001b[0mtrend_moat\u001b[0m\u001b[0;34m[\u001b[0m\u001b[0;34m'before_score'\u001b[0m\u001b[0;34m]\u001b[0m\u001b[0;34m)\u001b[0m\u001b[0;34m\u001b[0m\u001b[0m\n\u001b[0m",
      "\u001b[0;32m~/anaconda3/lib/python3.6/site-packages/seaborn/distributions.py\u001b[0m in \u001b[0;36mdistplot\u001b[0;34m(a, bins, hist, kde, rug, fit, hist_kws, kde_kws, rug_kws, fit_kws, color, vertical, norm_hist, axlabel, label, ax)\u001b[0m\n\u001b[1;32m    210\u001b[0m     \u001b[0;32mif\u001b[0m \u001b[0mhist\u001b[0m\u001b[0;34m:\u001b[0m\u001b[0;34m\u001b[0m\u001b[0m\n\u001b[1;32m    211\u001b[0m         \u001b[0;32mif\u001b[0m \u001b[0mbins\u001b[0m \u001b[0;32mis\u001b[0m \u001b[0;32mNone\u001b[0m\u001b[0;34m:\u001b[0m\u001b[0;34m\u001b[0m\u001b[0m\n\u001b[0;32m--> 212\u001b[0;31m             \u001b[0mbins\u001b[0m \u001b[0;34m=\u001b[0m \u001b[0mmin\u001b[0m\u001b[0;34m(\u001b[0m\u001b[0m_freedman_diaconis_bins\u001b[0m\u001b[0;34m(\u001b[0m\u001b[0ma\u001b[0m\u001b[0;34m)\u001b[0m\u001b[0;34m,\u001b[0m \u001b[0;36m50\u001b[0m\u001b[0;34m)\u001b[0m\u001b[0;34m\u001b[0m\u001b[0m\n\u001b[0m\u001b[1;32m    213\u001b[0m         \u001b[0mhist_kws\u001b[0m\u001b[0;34m.\u001b[0m\u001b[0msetdefault\u001b[0m\u001b[0;34m(\u001b[0m\u001b[0;34m\"alpha\"\u001b[0m\u001b[0;34m,\u001b[0m \u001b[0;36m0.4\u001b[0m\u001b[0;34m)\u001b[0m\u001b[0;34m\u001b[0m\u001b[0m\n\u001b[1;32m    214\u001b[0m         \u001b[0mhist_kws\u001b[0m\u001b[0;34m.\u001b[0m\u001b[0msetdefault\u001b[0m\u001b[0;34m(\u001b[0m\u001b[0;34m\"normed\"\u001b[0m\u001b[0;34m,\u001b[0m \u001b[0mnorm_hist\u001b[0m\u001b[0;34m)\u001b[0m\u001b[0;34m\u001b[0m\u001b[0m\n",
      "\u001b[0;32m~/anaconda3/lib/python3.6/site-packages/seaborn/distributions.py\u001b[0m in \u001b[0;36m_freedman_diaconis_bins\u001b[0;34m(a)\u001b[0m\n\u001b[1;32m     34\u001b[0m         \u001b[0;32mreturn\u001b[0m \u001b[0mint\u001b[0m\u001b[0;34m(\u001b[0m\u001b[0mnp\u001b[0m\u001b[0;34m.\u001b[0m\u001b[0msqrt\u001b[0m\u001b[0;34m(\u001b[0m\u001b[0ma\u001b[0m\u001b[0;34m.\u001b[0m\u001b[0msize\u001b[0m\u001b[0;34m)\u001b[0m\u001b[0;34m)\u001b[0m\u001b[0;34m\u001b[0m\u001b[0m\n\u001b[1;32m     35\u001b[0m     \u001b[0;32melse\u001b[0m\u001b[0;34m:\u001b[0m\u001b[0;34m\u001b[0m\u001b[0m\n\u001b[0;32m---> 36\u001b[0;31m         \u001b[0;32mreturn\u001b[0m \u001b[0mint\u001b[0m\u001b[0;34m(\u001b[0m\u001b[0mnp\u001b[0m\u001b[0;34m.\u001b[0m\u001b[0mceil\u001b[0m\u001b[0;34m(\u001b[0m\u001b[0;34m(\u001b[0m\u001b[0ma\u001b[0m\u001b[0;34m.\u001b[0m\u001b[0mmax\u001b[0m\u001b[0;34m(\u001b[0m\u001b[0;34m)\u001b[0m \u001b[0;34m-\u001b[0m \u001b[0ma\u001b[0m\u001b[0;34m.\u001b[0m\u001b[0mmin\u001b[0m\u001b[0;34m(\u001b[0m\u001b[0;34m)\u001b[0m\u001b[0;34m)\u001b[0m \u001b[0;34m/\u001b[0m \u001b[0mh\u001b[0m\u001b[0;34m)\u001b[0m\u001b[0;34m)\u001b[0m\u001b[0;34m\u001b[0m\u001b[0m\n\u001b[0m\u001b[1;32m     37\u001b[0m \u001b[0;34m\u001b[0m\u001b[0m\n\u001b[1;32m     38\u001b[0m \u001b[0;34m\u001b[0m\u001b[0m\n",
      "\u001b[0;31mValueError\u001b[0m: cannot convert float NaN to integer"
     ]
    },
    {
     "data": {
      "image/png": "[encoded data removed]",
      "text/plain": [
       "<Figure size 432x288 with 1 Axes>"
      ]
     },
     "metadata": {
      "needs_background": "light"
     },
     "output_type": "display_data"
    }
   ],
   "source": [
    "sns.distplot(trend_moat['before_score'])"
   ]
  },
  {
   "cell_type": "code",
   "execution_count": 140,
   "metadata": {},
   "outputs": [],
   "source": [
    "# sns.distplot(trend_moat['after_score'])"
   ]
  },
  {
   "cell_type": "code",
   "execution_count": 170,
   "metadata": {},
   "outputs": [
    {
     "data": {
      "text/plain": [
       "['Companies Brand',\n",
       " 'Brand',\n",
       " 'Image Name',\n",
       " 'First Seen',\n",
       " 'Last Seen',\n",
       " 'Screenpath',\n",
       " 'percent_color',\n",
       " 'read_text',\n",
       " 'out_vertices',\n",
       " 'faces']"
      ]
     },
     "execution_count": 170,
     "metadata": {},
     "output_type": "execute_result"
    }
   ],
   "source": [
    "list(df_moat)"
   ]
  },
  {
   "cell_type": "code",
   "execution_count": 568,
   "metadata": {},
   "outputs": [
    {
     "data": {
      "text/plain": [
       "[datetime.date(2019, 6, 20),\n",
       " datetime.date(2019, 6, 21),\n",
       " datetime.date(2019, 6, 22)]"
      ]
     },
     "execution_count": 568,
     "metadata": {},
     "output_type": "execute_result"
    }
   ],
   "source": [
    "list(trend_moat)[1813:1816]"
   ]
  },
  {
   "cell_type": "code",
   "execution_count": 141,
   "metadata": {},
   "outputs": [],
   "source": [
    "test = trend_moat[['Brand','before_score','campaign_score']].groupby('Brand').mean()"
   ]
  },
  {
   "cell_type": "code",
   "execution_count": 143,
   "metadata": {},
   "outputs": [],
   "source": []
  },
  {
   "cell_type": "code",
   "execution_count": 144,
   "metadata": {},
   "outputs": [
    {
     "data": {
      "text/plain": [
       "Ttest_indResult(statistic=1.1948844087176154, pvalue=0.23215052603800707)"
      ]
     },
     "execution_count": 144,
     "metadata": {},
     "output_type": "execute_result"
    }
   ],
   "source": [
    "from scipy import stats\n",
    "stats.ttest_ind(trend_moat['before_score'], trend_moat['campaign_score'], axis=0, equal_var=False)"
   ]
  },
  {
   "cell_type": "code",
   "execution_count": 145,
   "metadata": {},
   "outputs": [
    {
     "data": {
      "text/plain": [
       "Ttest_indResult(statistic=1.1948844087176154, pvalue=0.23215047082486914)"
      ]
     },
     "execution_count": 145,
     "metadata": {},
     "output_type": "execute_result"
    }
   ],
   "source": [
    "stats.ttest_ind(trend_moat['before_score'], trend_moat['campaign_score'])"
   ]
  },
  {
   "cell_type": "code",
   "execution_count": 171,
   "metadata": {},
   "outputs": [],
   "source": [
    "# list(df_google)"
   ]
  },
  {
   "cell_type": "code",
   "execution_count": 172,
   "metadata": {},
   "outputs": [],
   "source": [
    "new = ['Companies Brand',\n",
    " 'Image Name',\n",
    " 'First Seen',\n",
    " 'Last Seen',\n",
    " 'before_campaign',\n",
    " 'before_score',\n",
    " 'campaign_score',\n",
    " 'percent_color',\n",
    " 'read_text',\n",
    " 'out_vertices',\n",
    " 'faces',        \n",
    " 'Brand']"
   ]
  },
  {
   "cell_type": "code",
   "execution_count": 173,
   "metadata": {},
   "outputs": [],
   "source": [
    "final_df = trend_moat[new]"
   ]
  },
  {
   "cell_type": "code",
   "execution_count": 215,
   "metadata": {},
   "outputs": [],
   "source": [
    "final_df.to_pickle('final_df')"
   ]
  },
  {
   "cell_type": "code",
   "execution_count": 151,
   "metadata": {},
   "outputs": [],
   "source": [
    "import plotly \n",
    "plotly.tools.set_credentials_file(username='razzjazz', api_key='lz5kvoOXzYxkk4tdjFh0')\n",
    "import plotly.plotly as py\n",
    "import plotly.graph_objs as go\n",
    "from plotly.tools import FigureFactory as FF\n",
    "\n",
    "import numpy as np\n",
    "import pandas as pd\n",
    "import scipy"
   ]
  },
  {
   "cell_type": "code",
   "execution_count": 153,
   "metadata": {},
   "outputs": [],
   "source": [
    "trend_moat = pd.read_pickle('data/trend_moat2')"
   ]
  },
  {
   "cell_type": "code",
   "execution_count": 154,
   "metadata": {},
   "outputs": [],
   "source": [
    "data1 = trend_moat['before_score']\n",
    "data2 = trend_moat['campaign_score']"
   ]
  },
  {
   "cell_type": "code",
   "execution_count": 155,
   "metadata": {},
   "outputs": [
    {
     "name": "stdout",
     "output_type": "stream",
     "text": [
      "High five! You successfully sent some data to your account on plotly. View your plot in your browser at https://plot.ly/~razzjazz/0 or inside your plot.ly account where it is named 'normal-dists-plot'\n"
     ]
    },
    {
     "name": "stderr",
     "output_type": "stream",
     "text": [
      "/Users/ian/anaconda3/lib/python3.6/site-packages/IPython/core/display.py:694: UserWarning:\n",
      "\n",
      "Consider using IPython.display.IFrame instead\n",
      "\n"
     ]
    },
    {
     "data": {
      "text/html": [
       "<iframe id=\"igraph\" scrolling=\"no\" style=\"border:none;\" seamless=\"seamless\" src=\"https://plot.ly/~razzjazz/0.embed\" height=\"525px\" width=\"100%\"></iframe>"
      ],
      "text/plain": [
       "<chart_studio.tools.PlotlyDisplay object>"
      ]
     },
     "execution_count": 155,
     "metadata": {},
     "output_type": "execute_result"
    }
   ],
   "source": [
    "x = np.linspace(-4, 5, 160)\n",
    "y1 = scipy.stats.norm.pdf(x)\n",
    "y2 = scipy.stats.norm.pdf(x, loc=2)\n",
    "\n",
    "trace1 = go.Scatter(\n",
    "    x = x,\n",
    "    y = y1,\n",
    "    mode = 'lines+markers',\n",
    "    name='Mean of 0'\n",
    ")\n",
    "\n",
    "trace2 = go.Scatter(\n",
    "    x = x,\n",
    "    y = y2,\n",
    "    mode = 'lines+markers',\n",
    "    name='Mean of 2'\n",
    ")\n",
    "\n",
    "data = [trace1, trace2]\n",
    "\n",
    "py.iplot(data, filename='normal-dists-plot')"
   ]
  },
  {
   "cell_type": "code",
   "execution_count": 175,
   "metadata": {},
   "outputs": [
    {
     "name": "stderr",
     "output_type": "stream",
     "text": [
      "/Users/ian/anaconda3/lib/python3.6/site-packages/ipykernel_launcher.py:1: SettingWithCopyWarning:\n",
      "\n",
      "\n",
      "A value is trying to be set on a copy of a slice from a DataFrame.\n",
      "Try using .loc[row_indexer,col_indexer] = value instead\n",
      "\n",
      "See the caveats in the documentation: http://pandas.pydata.org/pandas-docs/stable/indexing.html#indexing-view-versus-copy\n",
      "\n"
     ]
    }
   ],
   "source": [
    "final_df['campaign_length'] = final_df['Last Seen'] - final_df['First Seen']"
   ]
  },
  {
   "cell_type": "code",
   "execution_count": 158,
   "metadata": {},
   "outputs": [],
   "source": [
    "df_companies = pd.read_pickle('data/df_companies')"
   ]
  },
  {
   "cell_type": "code",
   "execution_count": 176,
   "metadata": {},
   "outputs": [],
   "source": [
    "no_vis_df = pd.merge(final_df, df_companies, how='left', left_on = 'Companies Brand', right_on = 'Moat Name')"
   ]
  },
  {
   "cell_type": "code",
   "execution_count": 181,
   "metadata": {},
   "outputs": [],
   "source": [
    "no_vis_df['target_value']= no_vis_df['campaign_score'] - no_vis_df['before_score']"
   ]
  },
  {
   "cell_type": "code",
   "execution_count": 182,
   "metadata": {},
   "outputs": [],
   "source": [
    "no_vis_df['target'] = no_vis_df['target_value']>3"
   ]
  },
  {
   "cell_type": "code",
   "execution_count": 183,
   "metadata": {},
   "outputs": [
    {
     "data": {
      "text/plain": [
       "(2149, 9270)"
      ]
     },
     "execution_count": 183,
     "metadata": {},
     "output_type": "execute_result"
    }
   ],
   "source": [
    "no_vis_df['target'].sum(), no_vis_df['target'].count()"
   ]
  },
  {
   "cell_type": "code",
   "execution_count": 184,
   "metadata": {},
   "outputs": [
    {
     "name": "stderr",
     "output_type": "stream",
     "text": [
      "/Users/ian/anaconda3/lib/python3.6/site-packages/numpy/lib/function_base.py:780: RuntimeWarning:\n",
      "\n",
      "invalid value encountered in greater_equal\n",
      "\n",
      "/Users/ian/anaconda3/lib/python3.6/site-packages/numpy/lib/function_base.py:781: RuntimeWarning:\n",
      "\n",
      "invalid value encountered in less_equal\n",
      "\n"
     ]
    },
    {
     "data": {
      "text/plain": [
       "<function matplotlib.pyplot.show(*args, **kw)>"
      ]
     },
     "execution_count": 184,
     "metadata": {},
     "output_type": "execute_result"
    },
    {
     "data": {
      "image/png": "[encoded data removed]",
      "text/plain": [
       "<Figure size 432x288 with 1 Axes>"
      ]
     },
     "metadata": {
      "needs_background": "light"
     },
     "output_type": "display_data"
    }
   ],
   "source": [
    "plt.hist(no_vis_df['target_value'], bins=400, color='yellow')\n",
    "plt.axvline(x=0, color='k', linestyle='--')\n",
    "plt.show"
   ]
  },
  {
   "cell_type": "code",
   "execution_count": 185,
   "metadata": {},
   "outputs": [
    {
     "name": "stderr",
     "output_type": "stream",
     "text": [
      "/Users/ian/anaconda3/lib/python3.6/site-packages/statsmodels/nonparametric/kde.py:454: RuntimeWarning:\n",
      "\n",
      "invalid value encountered in greater\n",
      "\n",
      "/Users/ian/anaconda3/lib/python3.6/site-packages/statsmodels/nonparametric/kde.py:454: RuntimeWarning:\n",
      "\n",
      "invalid value encountered in less\n",
      "\n"
     ]
    },
    {
     "data": {
      "text/plain": [
       "<matplotlib.lines.Line2D at 0x1a4bd68828>"
      ]
     },
     "execution_count": 185,
     "metadata": {},
     "output_type": "execute_result"
    },
    {
     "data": {
      "image/png": "[encoded data removed]",
      "text/plain": [
       "<Figure size 432x288 with 1 Axes>"
      ]
     },
     "metadata": {
      "needs_background": "light"
     },
     "output_type": "display_data"
    }
   ],
   "source": [
    "sns.distplot(no_vis_df['target_value'],bins=20, color='yellow', hist_kws=dict(edgecolor=\"k\", linewidth=0))\n",
    "sns.despine(top=True, right=True, left=False, bottom=False)\n",
    "plt.axvline(x=0, color='grey', linestyle='--')"
   ]
  },
  {
   "cell_type": "code",
   "execution_count": 187,
   "metadata": {},
   "outputs": [
    {
     "data": {
      "text/html": [
       "<div>\n",
       "<style scoped>\n",
       "    .dataframe tbody tr th:only-of-type {\n",
       "        vertical-align: middle;\n",
       "    }\n",
       "\n",
       "    .dataframe tbody tr th {\n",
       "        vertical-align: top;\n",
       "    }\n",
       "\n",
       "    .dataframe thead th {\n",
       "        text-align: right;\n",
       "    }\n",
       "</style>\n",
       "<table border=\"1\" class=\"dataframe\">\n",
       "  <thead>\n",
       "    <tr style=\"text-align: right;\">\n",
       "      <th></th>\n",
       "      <th>Companies Brand</th>\n",
       "      <th>Image Name</th>\n",
       "      <th>First Seen</th>\n",
       "      <th>Last Seen</th>\n",
       "      <th>before_campaign</th>\n",
       "      <th>before_score</th>\n",
       "      <th>campaign_score</th>\n",
       "      <th>percent_color</th>\n",
       "      <th>read_text</th>\n",
       "      <th>out_vertices</th>\n",
       "      <th>...</th>\n",
       "      <th>Brand</th>\n",
       "      <th>campaign_length</th>\n",
       "      <th>Organization Name</th>\n",
       "      <th>Categories</th>\n",
       "      <th>Headquarters Location</th>\n",
       "      <th>Description</th>\n",
       "      <th>Founded</th>\n",
       "      <th>Moat Name</th>\n",
       "      <th>target_value</th>\n",
       "      <th>target</th>\n",
       "    </tr>\n",
       "  </thead>\n",
       "  <tbody>\n",
       "    <tr>\n",
       "      <th>4372</th>\n",
       "      <td>Thomson-Reuters</td>\n",
       "      <td>ThomsonReuters4300.jpg</td>\n",
       "      <td>2019-07-04</td>\n",
       "      <td>2019-07-25</td>\n",
       "      <td>2019-03-04</td>\n",
       "      <td>42.854569</td>\n",
       "      <td>NaN</td>\n",
       "      <td>{'red': 0, 'green': 0, 'yellow': 0, 'blue': 0,...</td>\n",
       "      <td>[Move, ahead, with, confidence., Bring, unseen...</td>\n",
       "      <td>0.10148</td>\n",
       "      <td>...</td>\n",
       "      <td>ThomsonReuters</td>\n",
       "      <td>21 days</td>\n",
       "      <td>NaN</td>\n",
       "      <td>NaN</td>\n",
       "      <td>NaN</td>\n",
       "      <td>NaN</td>\n",
       "      <td>NaN</td>\n",
       "      <td>NaN</td>\n",
       "      <td>NaN</td>\n",
       "      <td>False</td>\n",
       "    </tr>\n",
       "  </tbody>\n",
       "</table>\n",
       "<p>1 rows × 21 columns</p>\n",
       "</div>"
      ],
      "text/plain": [
       "      Companies Brand              Image Name First Seen  Last Seen  \\\n",
       "4372  Thomson-Reuters  ThomsonReuters4300.jpg 2019-07-04 2019-07-25   \n",
       "\n",
       "     before_campaign  before_score  campaign_score  \\\n",
       "4372      2019-03-04     42.854569             NaN   \n",
       "\n",
       "                                          percent_color  \\\n",
       "4372  {'red': 0, 'green': 0, 'yellow': 0, 'blue': 0,...   \n",
       "\n",
       "                                              read_text  out_vertices   ...    \\\n",
       "4372  [Move, ahead, with, confidence., Bring, unseen...       0.10148   ...     \n",
       "\n",
       "               Brand campaign_length Organization Name Categories  \\\n",
       "4372  ThomsonReuters         21 days               NaN        NaN   \n",
       "\n",
       "     Headquarters Location Description Founded Moat Name target_value  target  \n",
       "4372                   NaN         NaN     NaN       NaN          NaN   False  \n",
       "\n",
       "[1 rows x 21 columns]"
      ]
     },
     "execution_count": 187,
     "metadata": {},
     "output_type": "execute_result"
    }
   ],
   "source": [
    "no_vis_df.sample()"
   ]
  },
  {
   "cell_type": "code",
   "execution_count": 191,
   "metadata": {},
   "outputs": [],
   "source": [
    "# image_data['color_round'] = image_data['color_round'].apply(lambda x : dict(eval(x)) )\n",
    "image_data2 = no_vis_df['percent_color'].apply(pd.Series )\n",
    "image_data_clean = pd.concat([no_vis_df, image_data2], axis=1).drop('percent_color', axis=1)\n"
   ]
  },
  {
   "cell_type": "code",
   "execution_count": null,
   "metadata": {},
   "outputs": [],
   "source": []
  },
  {
   "cell_type": "code",
   "execution_count": 204,
   "metadata": {},
   "outputs": [],
   "source": [
    "import pandas as pd\n",
    "import numpy as np\n",
    "# from code.load_enron import build_data_frame\n",
    "# from sklearn.cross_validation import train_test_split\n",
    "from sklearn.feature_extraction.text import TfidfVectorizer\n",
    "import time\n",
    "from sklearn.neighbors import KNeighborsClassifier\n",
    "from sklearn.metrics import accuracy_score\n",
    "from sklearn.naive_bayes import MultinomialNB\n",
    "from sklearn.linear_model import LogisticRegression\n",
    "from sklearn.datasets import fetch_20newsgroups\n",
    "from sklearn.datasets import make_circles\n",
    "import matplotlib.pyplot as plt\n"
   ]
  },
  {
   "cell_type": "code",
   "execution_count": 207,
   "metadata": {},
   "outputs": [],
   "source": [
    "image_data_clean['read_text'] = image_data_clean['read_text'].apply(lambda x : ' '.join(x))"
   ]
  },
  {
   "cell_type": "code",
   "execution_count": 208,
   "metadata": {},
   "outputs": [],
   "source": [
    "from sklearn.feature_extraction.text import TfidfVectorizer\n",
    "\n",
    "# def vectorize_tfidf()\n",
    "tfidf = TfidfVectorizer(stop_words='english')\n",
    "document_tfidf_matrix = tfidf.fit_transform(image_data_clean['read_text'])\n",
    "# print(sorted(tfidf.vocabulary_))\n",
    "# print(document_tfidf_matrix.todense())"
   ]
  },
  {
   "cell_type": "code",
   "execution_count": 209,
   "metadata": {},
   "outputs": [],
   "source": [
    "all_words_df = pd.DataFrame(document_tfidf_matrix.todense(), columns=tfidf.vocabulary_)"
   ]
  },
  {
   "cell_type": "code",
   "execution_count": 211,
   "metadata": {},
   "outputs": [],
   "source": [
    "with_tfidf = pd.concat([image_data_clean, all_words_df], axis=1).drop('read_text', axis=1)"
   ]
  },
  {
   "cell_type": "code",
   "execution_count": 212,
   "metadata": {},
   "outputs": [],
   "source": [
    "with_tfidf.drop('words', axis=1, inplace=True)\n",
    "with_tfidf.drop('target_value', axis=1, inplace=True)"
   ]
  },
  {
   "cell_type": "code",
   "execution_count": 213,
   "metadata": {},
   "outputs": [],
   "source": [
    "with_tfidf.drop(['Companies Brand','Image Name','Brand','Organization Name','Categories','Headquarters Location','Description','Founded','Moat Name'],axis=1,inplace=True)"
   ]
  },
  {
   "cell_type": "code",
   "execution_count": 214,
   "metadata": {},
   "outputs": [
    {
     "ename": "ModuleNotFoundError",
     "evalue": "No module named 'sklearn.cross_validation'",
     "output_type": "error",
     "traceback": [
      "\u001b[0;31m---------------------------------------------------------------------------\u001b[0m",
      "\u001b[0;31mModuleNotFoundError\u001b[0m                       Traceback (most recent call last)",
      "\u001b[0;32m<ipython-input-214-b213b11b2e91>\u001b[0m in \u001b[0;36m<module>\u001b[0;34m\u001b[0m\n\u001b[0;32m----> 1\u001b[0;31m \u001b[0;32mfrom\u001b[0m \u001b[0msklearn\u001b[0m\u001b[0;34m.\u001b[0m\u001b[0mcross_validation\u001b[0m \u001b[0;32mimport\u001b[0m \u001b[0mtrain_test_split\u001b[0m\u001b[0;34m\u001b[0m\u001b[0m\n\u001b[0m\u001b[1;32m      2\u001b[0m \u001b[0;31m# 4. Create a train test split of your dataframe (70/30).\u001b[0m\u001b[0;34m\u001b[0m\u001b[0;34m\u001b[0m\u001b[0m\n\u001b[1;32m      3\u001b[0m \u001b[0mtrain_index\u001b[0m\u001b[0;34m,\u001b[0m \u001b[0mtest_index\u001b[0m \u001b[0;34m=\u001b[0m \u001b[0mtrain_test_split\u001b[0m\u001b[0;34m(\u001b[0m\u001b[0mrange\u001b[0m\u001b[0;34m(\u001b[0m\u001b[0;36m4468\u001b[0m\u001b[0;34m)\u001b[0m\u001b[0;34m)\u001b[0m\u001b[0;34m\u001b[0m\u001b[0m\n\u001b[1;32m      4\u001b[0m \u001b[0mtrain_df\u001b[0m \u001b[0;34m=\u001b[0m \u001b[0mwith_tfidf_no_date\u001b[0m\u001b[0;34m.\u001b[0m\u001b[0miloc\u001b[0m\u001b[0;34m[\u001b[0m\u001b[0mtrain_index\u001b[0m\u001b[0;34m]\u001b[0m\u001b[0;34m\u001b[0m\u001b[0m\n\u001b[1;32m      5\u001b[0m \u001b[0mtest_df\u001b[0m \u001b[0;34m=\u001b[0m \u001b[0mwith_tfidf_no_date\u001b[0m\u001b[0;34m.\u001b[0m\u001b[0miloc\u001b[0m\u001b[0;34m[\u001b[0m\u001b[0mtest_index\u001b[0m\u001b[0;34m]\u001b[0m\u001b[0;34m\u001b[0m\u001b[0m\n",
      "\u001b[0;31mModuleNotFoundError\u001b[0m: No module named 'sklearn.cross_validation'"
     ]
    }
   ],
   "source": [
    "from sklearn.cross_validation import train_test_split\n",
    "# 4. Create a train test split of your dataframe (70/30).\n",
    "train_index, test_index = train_test_split(range(4468))\n",
    "train_df = with_tfidf_no_date.iloc[train_index]\n",
    "test_df = with_tfidf_no_date.iloc[test_index]\n"
   ]
  },
  {
   "cell_type": "code",
   "execution_count": 158,
   "metadata": {},
   "outputs": [],
   "source": [
    "with_tfidf['campaign_length'] = with_tfidf['campaign_length'].dt.days"
   ]
  },
  {
   "cell_type": "code",
   "execution_count": 179,
   "metadata": {},
   "outputs": [],
   "source": [
    "with_tfidf_no_date.drop(['First Seen','Last Seen','before_campaign','after_campaign'], axis=1, inplace=True)"
   ]
  },
  {
   "cell_type": "code",
   "execution_count": 188,
   "metadata": {},
   "outputs": [],
   "source": [
    "with_tfidf_no_date.drop('after_score', axis=1, inplace=True)"
   ]
  },
  {
   "cell_type": "code",
   "execution_count": 231,
   "metadata": {},
   "outputs": [
    {
     "data": {
      "text/plain": [
       "SGDClassifier(alpha=0.0001, average=False, class_weight=None, epsilon=0.1,\n",
       "       eta0=0.0, fit_intercept=True, l1_ratio=0.15,\n",
       "       learning_rate='optimal', loss='log', max_iter=5, n_iter=None,\n",
       "       n_jobs=1, penalty='l2', power_t=0.5, random_state=None,\n",
       "       shuffle=True, tol=None, verbose=0, warm_start=False)"
      ]
     },
     "execution_count": 231,
     "metadata": {},
     "output_type": "execute_result"
    }
   ],
   "source": [
    "from sklearn.linear_model import SGDClassifier\n",
    "X = train_df.drop('target', axis=1)\n",
    "y = train_df['target'].iloc[:,0]\n",
    "clf = SGDClassifier(loss=\"log\", penalty=\"l2\", max_iter=5)\n",
    "clf.fit(X, y)   \n",
    "# SGDClassifier(alpha=0.0001, average=False, class_weight=None,\n",
    "#             epsilon=0.1, eta0=0.0, fit_intercept=True,\n",
    "#            l1_ratio=0.15, learning_rate='optimal', loss='log', max_iter=5,\n",
    "#             n_jobs=-1, penalty='l2', power_t=0.5,\n",
    "#             shuffle=True, tol=0.001,\n",
    "#             verbose=0, warm_start=False)"
   ]
  },
  {
   "cell_type": "code",
   "execution_count": 233,
   "metadata": {},
   "outputs": [
    {
     "name": "stderr",
     "output_type": "stream",
     "text": [
      "/Users/ian/anaconda3/lib/python3.6/site-packages/sklearn/linear_model/base.py:340: RuntimeWarning:\n",
      "\n",
      "overflow encountered in exp\n",
      "\n"
     ]
    }
   ],
   "source": [
    "predict = clf.predict_proba(test_df.drop('target', axis=1)) "
   ]
  },
  {
   "cell_type": "code",
   "execution_count": 201,
   "metadata": {},
   "outputs": [
    {
     "data": {
      "text/plain": [
       "0"
      ]
     },
     "execution_count": 201,
     "metadata": {},
     "output_type": "execute_result"
    }
   ],
   "source": [
    "with_tfidf_no_date.isnull().sum().sum()"
   ]
  },
  {
   "cell_type": "code",
   "execution_count": 239,
   "metadata": {},
   "outputs": [],
   "source": [
    "from sklearn.metrics import accuracy_score"
   ]
  },
  {
   "cell_type": "code",
   "execution_count": 245,
   "metadata": {},
   "outputs": [
    {
     "data": {
      "text/plain": [
       "0.09400179051029543"
      ]
     },
     "execution_count": 245,
     "metadata": {},
     "output_type": "execute_result"
    }
   ],
   "source": [
    "accuracy_score(test_df['target'].iloc[:,0], predict)"
   ]
  },
  {
   "cell_type": "code",
   "execution_count": 241,
   "metadata": {},
   "outputs": [
    {
     "data": {
      "text/plain": [
       "2712     True\n",
       "2894     True\n",
       "2467    False\n",
       "2282     True\n",
       "902     False\n",
       "2947    False\n",
       "217     False\n",
       "371     False\n",
       "2028    False\n",
       "982     False\n",
       "3237    False\n",
       "868     False\n",
       "747     False\n",
       "2246    False\n",
       "4439     True\n",
       "4119    False\n",
       "3049    False\n",
       "3138    False\n",
       "2744    False\n",
       "3978    False\n",
       "2449    False\n",
       "3152    False\n",
       "4284    False\n",
       "1483    False\n",
       "4018    False\n",
       "4420    False\n",
       "2401     True\n",
       "3920     True\n",
       "3519    False\n",
       "607      True\n",
       "        ...  \n",
       "3975    False\n",
       "242      True\n",
       "1405    False\n",
       "683     False\n",
       "595     False\n",
       "3805     True\n",
       "2381     True\n",
       "1994     True\n",
       "1045     True\n",
       "1079     True\n",
       "3406    False\n",
       "2440     True\n",
       "4148     True\n",
       "4369    False\n",
       "765     False\n",
       "324     False\n",
       "4405    False\n",
       "3426    False\n",
       "2608    False\n",
       "2436    False\n",
       "3790    False\n",
       "1231     True\n",
       "1692     True\n",
       "3       False\n",
       "4290    False\n",
       "2295     True\n",
       "3822     True\n",
       "1729    False\n",
       "1241     True\n",
       "383     False\n",
       "Name: target, Length: 1117, dtype: bool"
      ]
     },
     "execution_count": 241,
     "metadata": {},
     "output_type": "execute_result"
    }
   ],
   "source": [
    "test_df['target'].iloc[:,0]"
   ]
  },
  {
   "cell_type": "code",
   "execution_count": 244,
   "metadata": {},
   "outputs": [],
   "source": [
    "predict = predict[:,0] == 1"
   ]
  },
  {
   "cell_type": "code",
   "execution_count": 248,
   "metadata": {},
   "outputs": [],
   "source": [
    "image_data_clean['words'].to_pickle('word_cloud')"
   ]
  },
  {
   "cell_type": "code",
   "execution_count": null,
   "metadata": {},
   "outputs": [],
   "source": []
  }
 ],
 "metadata": {
  "kernelspec": {
   "display_name": "Python 3",
   "language": "python",
   "name": "python3"
  },
  "language_info": {
   "codemirror_mode": {
    "name": "ipython",
    "version": 3
   },
   "file_extension": ".py",
   "mimetype": "text/x-python",
   "name": "python",
   "nbconvert_exporter": "python",
   "pygments_lexer": "ipython3",
   "version": "3.6.6"
  }
 },
 "nbformat": 4,
 "nbformat_minor": 4
}
